{
 "cells": [
  {
   "cell_type": "markdown",
   "metadata": {},
   "source": [
    "# K-Means Clustering"
   ]
  },
  {
   "cell_type": "markdown",
   "metadata": {},
   "source": [
    "<b>Steps</b>\n",
    "1. Choose no of k of clusters\n",
    "2. select at random k points, the centroids (not necessarily from your dataset)\n",
    "3. Assign each data point to closet centroid - that forms k cluster using Euclidean distance\n",
    "4. Compute and place the new centroid of each cluster\n",
    "5. Ressign each data point to closest centroid.3"
   ]
  },
  {
   "cell_type": "markdown",
   "metadata": {},
   "source": [
    "<b>Steps in Python</b>\n",
    "1. Import the Libraries\n",
    "2. Import the dataset\n",
    "3. Using elbow method find the optimal number of clusters\n",
    "4. Training K-Means on Clusters\n",
    "5. Visualizing Clusters."
   ]
  },
  {
   "cell_type": "code",
   "execution_count": 1,
   "metadata": {},
   "outputs": [],
   "source": [
    "## Importing the libraries\n",
    "import numpy as np\n",
    "import matplotlib.pyplot as plt\n",
    "import pandas as pd"
   ]
  },
  {
   "cell_type": "markdown",
   "metadata": {},
   "source": [
    "<b>In Cluster problem there is no dependent variable. So the last column \"Spending Score (1-100)\" is not a dependent variable rather its a feature to form cluster</b>"
   ]
  },
  {
   "cell_type": "code",
   "execution_count": 2,
   "metadata": {},
   "outputs": [],
   "source": [
    "#Import Dataset\n",
    "df = pd.read_csv(r'C:\\Users\\User\\Desktop\\Anindita Mitra\\Dataset\\Mall_Customers.csv')"
   ]
  },
  {
   "cell_type": "code",
   "execution_count": 14,
   "metadata": {},
   "outputs": [
    {
     "data": {
      "text/html": [
       "<div>\n",
       "<style scoped>\n",
       "    .dataframe tbody tr th:only-of-type {\n",
       "        vertical-align: middle;\n",
       "    }\n",
       "\n",
       "    .dataframe tbody tr th {\n",
       "        vertical-align: top;\n",
       "    }\n",
       "\n",
       "    .dataframe thead th {\n",
       "        text-align: right;\n",
       "    }\n",
       "</style>\n",
       "<table border=\"1\" class=\"dataframe\">\n",
       "  <thead>\n",
       "    <tr style=\"text-align: right;\">\n",
       "      <th></th>\n",
       "      <th>CustomerID</th>\n",
       "      <th>Genre</th>\n",
       "      <th>Age</th>\n",
       "      <th>Annual Income (k$)</th>\n",
       "      <th>Spending Score (1-100)</th>\n",
       "    </tr>\n",
       "  </thead>\n",
       "  <tbody>\n",
       "    <tr>\n",
       "      <th>0</th>\n",
       "      <td>1</td>\n",
       "      <td>Male</td>\n",
       "      <td>19</td>\n",
       "      <td>15</td>\n",
       "      <td>39</td>\n",
       "    </tr>\n",
       "    <tr>\n",
       "      <th>1</th>\n",
       "      <td>2</td>\n",
       "      <td>Male</td>\n",
       "      <td>21</td>\n",
       "      <td>15</td>\n",
       "      <td>81</td>\n",
       "    </tr>\n",
       "    <tr>\n",
       "      <th>2</th>\n",
       "      <td>3</td>\n",
       "      <td>Female</td>\n",
       "      <td>20</td>\n",
       "      <td>16</td>\n",
       "      <td>6</td>\n",
       "    </tr>\n",
       "    <tr>\n",
       "      <th>3</th>\n",
       "      <td>4</td>\n",
       "      <td>Female</td>\n",
       "      <td>23</td>\n",
       "      <td>16</td>\n",
       "      <td>77</td>\n",
       "    </tr>\n",
       "    <tr>\n",
       "      <th>4</th>\n",
       "      <td>5</td>\n",
       "      <td>Female</td>\n",
       "      <td>31</td>\n",
       "      <td>17</td>\n",
       "      <td>40</td>\n",
       "    </tr>\n",
       "  </tbody>\n",
       "</table>\n",
       "</div>"
      ],
      "text/plain": [
       "   CustomerID   Genre  Age  Annual Income (k$)  Spending Score (1-100)\n",
       "0           1    Male   19                  15                      39\n",
       "1           2    Male   21                  15                      81\n",
       "2           3  Female   20                  16                       6\n",
       "3           4  Female   23                  16                      77\n",
       "4           5  Female   31                  17                      40"
      ]
     },
     "execution_count": 14,
     "metadata": {},
     "output_type": "execute_result"
    }
   ],
   "source": [
    "df.head()"
   ]
  },
  {
   "cell_type": "code",
   "execution_count": 15,
   "metadata": {},
   "outputs": [],
   "source": [
    "#define X\n",
    "x = df.iloc[:, [2, 4]].values"
   ]
  },
  {
   "cell_type": "code",
   "execution_count": 16,
   "metadata": {},
   "outputs": [],
   "source": [
    "# Apply elbow method to find the optimal number of clusters\n",
    "from sklearn.cluster import KMeans"
   ]
  },
  {
   "cell_type": "code",
   "execution_count": 17,
   "metadata": {},
   "outputs": [
    {
     "data": {
      "image/png": "[encoded data removed]",
      "text/plain": [
       "<Figure size 432x288 with 1 Axes>"
      ]
     },
     "metadata": {
      "needs_background": "light"
     },
     "output_type": "display_data"
    }
   ],
   "source": [
    "#optimal no of cluster is 5 because initially it was decressing rigorously but after 5 it is decressing slowly.\n",
    "wcss = []\n",
    "for i in range(1, 11):\n",
    "    kmeans = KMeans(n_clusters = i, init = 'k-means++', random_state = 42)\n",
    "    kmeans.fit(x)\n",
    "    wcss.append(kmeans.inertia_)\n",
    "    \n",
    "plt.plot(range(1, 11), wcss)\n",
    "plt.title('The Elbow Method')\n",
    "plt.xlabel('Number of clusters')\n",
    "plt.ylabel('WCSS')\n",
    "plt.show()\n",
    "    "
   ]
  },
  {
   "cell_type": "code",
   "execution_count": 18,
   "metadata": {},
   "outputs": [],
   "source": [
    "#Training K-Clustering\n",
    "kmeans = KMeans(n_clusters = 5, init = 'k-means++', random_state = 42)\n",
    "#creating a dependent varibale (kmeans.fit_predict with this method we can find the dependent variable)\n",
    "y_pred_kmeans = kmeans.fit_predict(x)"
   ]
  },
  {
   "cell_type": "code",
   "execution_count": 19,
   "metadata": {},
   "outputs": [
    {
     "name": "stdout",
     "output_type": "stream",
     "text": [
      "[4 1 0 1 4 1 0 1 0 1 0 1 0 1 0 1 2 4 2 1 2 1 0 1 0 1 2 4 2 1 0 1 0 1 0 1 0\n",
      " 1 2 1 3 1 2 4 2 4 3 4 4 4 3 4 4 3 2 2 3 3 4 3 3 4 3 3 3 4 2 3 4 4 3 2 3 3\n",
      " 3 4 2 2 4 2 3 4 3 2 4 2 3 4 4 2 3 4 2 2 4 4 2 4 2 4 4 2 3 4 3 4 3 3 3 3 3\n",
      " 4 2 4 4 4 3 3 2 3 4 2 4 1 4 1 2 1 0 1 0 1 4 1 0 1 0 1 0 1 0 1 4 1 0 1 2 1\n",
      " 0 1 0 1 0 1 0 1 0 1 0 1 2 1 0 1 2 1 0 1 2 4 0 1 0 1 0 1 0 1 0 1 2 1 0 1 2\n",
      " 1 0 1 0 1 0 1 0 1 0 1 2 1 0 1]\n"
     ]
    }
   ],
   "source": [
    "#the below are the index number of the cluster 4 = cluster 5, 1 = cluster2, 0 = cluster1)\n",
    "print(y_pred_kmeans)"
   ]
  },
  {
   "cell_type": "code",
   "execution_count": 20,
   "metadata": {},
   "outputs": [
    {
     "data": {
      "image/png": "[encoded data removed]",
      "text/plain": [
       "<Figure size 432x288 with 1 Axes>"
      ]
     },
     "metadata": {
      "needs_background": "light"
     },
     "output_type": "display_data"
    }
   ],
   "source": [
    "# Vizualizing the Clusters 1 with index 0\n",
    "# this [y_pred_kmeans == ,0] will select all the cust whose y_pred_means belongs to cluster 1 with index 0\n",
    "# 0 (x) : Annual Income (k$)\n",
    "# y_pred_kmeans : Spending Score (1-100)\n",
    "\n",
    "#Clusters 1 | Index 0\n",
    "plt.scatter(x[y_pred_kmeans == 0,0], x[y_pred_kmeans == 0,1], s = 100, c = 'red', label = 'Cluster1')\n",
    "#Clusters 2 | Index 1\n",
    "plt.scatter(x[y_pred_kmeans == 1,0], x[y_pred_kmeans == 1,1], s = 100, c = 'blue', label = 'Cluster2')\n",
    "#Clusters 3 | Index 2\n",
    "plt.scatter(x[y_pred_kmeans == 2,0], x[y_pred_kmeans == 2,1], s = 100, c = 'green', label = 'Cluster3')\n",
    "#Clusters 4 | Index 3\n",
    "plt.scatter(x[y_pred_kmeans == 3,0], x[y_pred_kmeans == 3,1], s = 100, c = 'yellow', label = 'Cluster4')\n",
    "#Clusters 5 | Index 4\n",
    "plt.scatter(x[y_pred_kmeans == 4,0], x[y_pred_kmeans == 4,1], s = 100, c = 'magenta', label = 'Cluster5')\n",
    "\n",
    "#Centroid # x                              #y\n",
    "plt.scatter(kmeans.cluster_centers_[:, 0],kmeans.cluster_centers_[:, 1], s = 300, color='cyan', label='Centroid')\n",
    "\n",
    "#Title\n",
    "plt.title('Clusters of Customers')\n",
    "# X-Label\n",
    "plt.xlabel('Annual Income (k$)')\n",
    "# y-Label\n",
    "plt.ylabel('Spending Score (1-100)')\n",
    "\n",
    "plt.legend()\n",
    "\n",
    "#Complete Viz.\n",
    "plt.show()"
   ]
  },
  {
   "cell_type": "markdown",
   "metadata": {},
   "source": [
    "# Conclusion \n",
    "\n",
    "Cluster 1 : income range from low to high but expenditure is less\n",
    "\n",
    "Cluster 2 : income is low but expenditure is high\n",
    "\n",
    "Cluster 3 : income is moderate but expenditure is moderate\n",
    "\n",
    "Cluster 4 : income is high but expenditure is moderate\n",
    "\n",
    "Cluster 5 : income is low and expenditure is slightly high"
   ]
  },
  {
   "cell_type": "code",
   "execution_count": null,
   "metadata": {},
   "outputs": [],
   "source": []
  }
 ],
 "metadata": {
  "kernelspec": {
   "display_name": "Python 3",
   "language": "python",
   "name": "python3"
  },
  "language_info": {
   "codemirror_mode": {
    "name": "ipython",
    "version": 3
   },
   "file_extension": ".py",
   "mimetype": "text/x-python",
   "name": "python",
   "nbconvert_exporter": "python",
   "pygments_lexer": "ipython3",
   "version": "3.7.6"
  }
 },
 "nbformat": 4,
 "nbformat_minor": 4
}
